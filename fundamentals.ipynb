
        {
            "cells": [
          {
           "cell_type": "markdown",
           "metadata": {},
           
           "source": ["[![Binder](images/badge-binder.svg)](https://mybinder.org/v2/gh/nhirschey/teaching/gh-pages?filepath=fundamentals.ipynb)\u0026emsp;\n",
"[![Script](images/badge-script.svg)](/Teaching//fundamentals.fsx)\u0026emsp;\n",
"[![Notebook](images/badge-notebook.svg)](/Teaching//fundamentals.ipynb)\n",
"\n",
"\n",
"# Fundamentals\n",
"A good place to start is to define a one-period return calculation.\n",
"\n",
"Objectives:\n",
"\n",
"- [Interactive programming](#Interactive-programming)\n",
"- [How to calculate returns](#Calculating-returns).\n",
"- [Working with data.](#Working-with-data)\n",
"- [How to calculate return volatility](#Volatility)\n",
"\n",
"## Interactive programming\n",
"\n",
"We are going to focus on interactive programming. This is the most productive (and most common) type of analytic programming. In constrast to compiled programs (e.g, C, C++, Fortran, Java), interactive programs:\n",
"\n",
"- Allow rapid iterative development.\n",
"- You can quickly quickly write and rewrite sections of code, evaluating the output, without having to rerun the entire program.\n",
"- This is especially useful for financial analysis, because we often evaluate large datasets that take a long time to process.\n",
"\n",
"Interactive programming typically involves a [REPL](https://en.wikipedia.org/wiki/Read%E2%80%93eval%E2%80%93print_loop) (Read, Evaluate, Print, Loop). It is common for scripting langauges such as R, Python, Julia, Ruby, and Perl.\n",
"\n",
"### The terminal\n",
"\n",
"The most basic way that you can run interactive code is at the command line using an interpreter. We can star the F# interactive interpreter by opening a terminal (e.g., terminal.app, cmd, powershell) and running `dotnet fsi`.\n",
"\n",
"Once fsi is open, we can type a code snippet in the prompt followed by \";;\" to terminate it and it will run.\n",
"\n",
"![fsi](images/fsi.png)\n",
"\n",
"\n",
"It is fine to run code this way, but we can do better using an IDE (Integrated development environment) that incorportes syntax highlighting, intellisense tooltips, and execution.\n",
"\n",
"## Calculating returns\n",
"\n",
"### Basic calculations in fsi\n",
"\n",
"Let\u0027s assume that you have \\$120.00 today and that you had \\$100.00 a year ago. Your annual return is then:\n",
"\n",
"\n"]
          }
,
          {
           "cell_type": "code",
           "metadata": {},
            "execution_count": 2, "outputs": [
          {
           "data": {
            "text/plain": ["val it : float = 0.2"]
        },
           "execution_count": 2,
           "metadata": {},
           "output_type": "execute_result"
          }], 
           "source": ["(120.0 / 100.0) - 1.0\n"]
          }
,
          {
           "cell_type": "markdown",
           "metadata": {},
           
           "source": ["### Basic numerical types: float, int, and decimal\n",
"\n",
"Notice that I included zeros after the decimal point. This is important. The decimal point makes it a [floating point](https://en.wikipedia.org/wiki/Floating-point_arithmetic) number. Floating point numbers (floats) are the most commonly used numerical type for mathematical calculations. \n",
"\n",
"If we left the decimal off it would be an integer and we would get the wrong answer because integers cannot represent fractions.\n",
"\n"]
          }
,
          {
           "cell_type": "code",
           "metadata": {},
            "execution_count": 3, "outputs": [
          {
           "data": {
            "text/plain": ["val it : int = 0"]
        },
           "execution_count": 3,
           "metadata": {},
           "output_type": "execute_result"
          }], 
           "source": ["(120/100) - 1\n"]
          }
,
          {
           "cell_type": "markdown",
           "metadata": {},
           
           "source": ["The other numerical data type is [decimal](https://en.wikipedia.org/wiki/Decimal_data_type). \n"]
          }
,
          {
           "cell_type": "code",
           "metadata": {},
            "execution_count": 4, "outputs": [
          {
           "data": {
            "text/plain": ["val it : decimal = 0.2M"]
        },
           "execution_count": 4,
           "metadata": {},
           "output_type": "execute_result"
          }], 
           "source": ["(120m/100m) - 1m\n"]
          }
,
          {
           "cell_type": "markdown",
           "metadata": {},
           
           "source": ["Decimals are used when you need an exact fractional amount. Floats are insufficient in these circumstances because *\"... such representations typically restrict the denominator to a power of two ... 0.3 (3/10) might be represented as 5404319552844595/18014398509481984 (0.299999999999999988897769...)\"* ([see wiki](https://en.wikipedia.org/wiki/Decimal_data_type)).\n",
"\n",
"### Static type checking\n",
"\n",
"Finally, since F# is staticly typed, we must do arithmetic using numbers that are all the same type. If we mix floats and integers we will get an error:\n",
"\n",
"```fsharp\n",
"(120.0 / 100) - 1.0\n",
"```\n",
"```output\n",
"fundamentals.fsx(18,10): error FS0001: The type \u0027int\u0027 does not match the type \u0027float\u0027\n",
"```\n",
"Static tying can slow you down a bit writing simple small programs, but as programs get larger and more complex the benefits become apparent. Specifically, static typing as implemented by F#:\n",
"\n",
"- helps you ensure that the code is correct (i.e., the type of the input data matches what the function expects). In the words of Yaron Minksy at Janestreet, you can [\"make illegal states unrepresentable\"](https://blog.janestreet.com/effective-ml-revisited/) (see [here](https://fsharpforfunandprofit.com/posts/designing-with-types-making-illegal-states-unrepresentable/) for F# examples).\n",
"- it also facilitates editor tooling that can check your code without running it and give tooltip errors (you should have seen a tooltip error in your editor if you type `(120.0 / 100) - 1.0` in your program file). It\u0027s like clippy on steriods (you are too young, but your parents might get this reference).\n",
"\n",
"![clippy](images/intellisense-example.png)\n",
"\n",
"[Image source](https://blog.codinghorror.com/it-looks-like-youre-writing-a-for-loop/)\n",
"\n",
" \n",
"### Assigning values\n",
"We could also do the same calculations by assigning \\$120.00 and \\$100.0 to named values.\n",
"\n"]
          }
,
          {
           "cell_type": "code",
           "metadata": {},
            "execution_count": 5, "outputs": [
          {
           "data": {
            "text/plain": ["val yearAgo : float = 100.0",
"val today : float = 120.0",
"val it : float = 0.2"]
        },
           "execution_count": 5,
           "metadata": {},
           "output_type": "execute_result"
          }], 
           "source": ["let yearAgo = 100.0\n",
"let today = 120.0\n",
"(today / yearAgo) - 1.0\n"]
          }
,
          {
           "cell_type": "markdown",
           "metadata": {},
           
           "source": ["This works for one-off calculations, but if we want to do this more than once, then it makes more sense to define a function to do this calculation. \n",
"### Defining functions \n",
"Functions map (or transform) inputs into outputs.\n",
"\n"]
          }
,
          {
           "cell_type": "code",
           "metadata": {},
            "execution_count": 6, "outputs": [], 
           "source": ["// Here is a simple function.\n",
"// It takes an input as an input x and then it adds\n",
"// 1 to whatever x is.\n",
"let f(x) = x + 1\n",
"\n",
"f(1) // here x is 1\n",
"f(2) // here x is 2\n",
"f(3) // here x is 3\n",
"\n",
"// We can also chain them\n",
"f(f(f(1))) // = (1 + (1 + (1 + 1)))\n",
"\n",
"// The parentheses are optional, and it\u0027s more standard leave them off.\n",
"let f2 x = x + 1\n",
"\n",
"// We can easily define a function to calcuate this return. \n",
"let calcReturn pv fv = (fv / pv) - 1.0\n"]
          }
,
          {
           "cell_type": "markdown",
           "metadata": {},
           
           "source": ["The type signature tells us that `calcReturn` is a function with two float inputs (pv and fv) and it maps those two inputs into a float output. The program was able to infer that `pv` and `fv` are floats because of the `1.0` float in the calculation.\n",
" Se can execute it on simple floats:\n"]
          }
,
          {
           "cell_type": "code",
           "metadata": {},
            "execution_count": 7, "outputs": [
          {
           "data": {
            "text/plain": ["val it : float = 0.1"]
        },
           "execution_count": 7,
           "metadata": {},
           "output_type": "execute_result"
          }], 
           "source": ["// here pv = 100., fv = 110.0\n",
"calcReturn 100.0 110.0\n"]
          }
,
          {
           "cell_type": "code",
           "metadata": {},
            "execution_count": 8, "outputs": [
          {
           "data": {
            "text/plain": ["val it : float = -0.25"]
        },
           "execution_count": 8,
           "metadata": {},
           "output_type": "execute_result"
          }], 
           "source": ["// here pv = 80.0, fv = 60.0\n",
"calcReturn 80.0 60.0\n"]
          }
,
          {
           "cell_type": "markdown",
           "metadata": {},
           
           "source": ["Or we can execute it on our previously defined `yearAgo` and `today` values: \n"]
          }
,
          {
           "cell_type": "code",
           "metadata": {},
            "execution_count": 9, "outputs": [
          {
           "data": {
            "text/plain": ["val it : float = 0.2"]
        },
           "execution_count": 9,
           "metadata": {},
           "output_type": "execute_result"
          }], 
           "source": ["calcReturn yearAgo today\n"]
          }
,
          {
           "cell_type": "markdown",
           "metadata": {},
           
           "source": ["However, if we try to get it to execute on decimals, we will get an error because we defined the function to only operate on floats. This is another (simple) example of the compiler using type checking.\n",
"\n",
"```\n",
"calcReturn 100.0m 120.0m\n",
"```\n",
"```output\n",
"fundamentals.fsx(23,14): error FS0001: This expression was expected to have type\n",
"    \u0027float\u0027    \n",
"but here has type\n",
"    \u0027decimal\u0027    \n",
"```\n",
"\n",
"\n",
"### Handling dividends\n",
"Our prior return calculation did not handle cash distributions such as dividends. We can incorporate dividends with a small modificaton:\n",
"\n",
"\n"]
          }
,
          {
           "cell_type": "code",
           "metadata": {},
            "execution_count": 10, "outputs": [], 
           "source": ["let simpleReturn beginningPrice endingPrice dividend =\n",
"    // This is solving for `r` in FV = PV*(1+r)^t where t=1.\n",
"    (endingPrice + dividend) / beginningPrice - 1.0\n"]
          }
,
          {
           "cell_type": "markdown",
           "metadata": {},
           
           "source": ["The examples thus far have used simple (per period) compounding. We can also calculate continuously compounded returns, sldo known as log returns.\n",
"\n"]
          }
,
          {
           "cell_type": "code",
           "metadata": {},
            "execution_count": 11, "outputs": [], 
           "source": ["let logReturn beginningPrice endingPrice dividend =\n",
"    // This is solving for `r` in FV = PV*e^(rt) where t=1.\n",
"    log(endingPrice + dividend) - log(beginningPrice)\n"]
          }
,
          {
           "cell_type": "markdown",
           "metadata": {},
           
           "source": ["These two calculations give slightly different returns.\n"]
          }
,
          {
           "cell_type": "code",
           "metadata": {},
            "execution_count": 12, "outputs": [
          {
           "data": {
            "text/plain": ["val it : float = 0.1"]
        },
           "execution_count": 12,
           "metadata": {},
           "output_type": "execute_result"
          }], 
           "source": ["simpleReturn 100.0 110.0 0.0 \n"]
          }
,
          {
           "cell_type": "code",
           "metadata": {},
            "execution_count": 13, "outputs": [
          {
           "data": {
            "text/plain": ["val it : float = 0.0953101798"]
        },
           "execution_count": 13,
           "metadata": {},
           "output_type": "execute_result"
          }], 
           "source": ["logReturn 100.0 110.0 0.0\n"]
          }
,
          {
           "cell_type": "markdown",
           "metadata": {},
           
           "source": ["It is typically not important which version of return you use so long as you are consistent and keep track of what type of return it is when you\u0027re compounding things.\n",
"\n",
"**Practice:** Can you write a function to compound an initial investment of \\$100.00 at 6% for 5 years? You can calculate power and exponents using:\n"]
          }
,
          {
           "cell_type": "code",
           "metadata": {},
            "execution_count": 14, "outputs": [
          {
           "data": {
            "text/plain": ["val it : float = 8.0"]
        },
           "execution_count": 14,
           "metadata": {},
           "output_type": "execute_result"
          }], 
           "source": ["2.0**3.0\n"]
          }
,
          {
           "cell_type": "code",
           "metadata": {},
            "execution_count": 15, "outputs": [
          {
           "data": {
            "text/plain": ["val it : float = 0.6931471806"]
        },
           "execution_count": 15,
           "metadata": {},
           "output_type": "execute_result"
          }], 
           "source": ["log 2.0\n"]
          }
,
          {
           "cell_type": "code",
           "metadata": {},
            "execution_count": 16, "outputs": [
          {
           "data": {
            "text/plain": ["val it : float = 1.999905641"]
        },
           "execution_count": 16,
           "metadata": {},
           "output_type": "execute_result"
          }], 
           "source": ["exp 0.6931\n"]
          }
,
          {
           "cell_type": "code",
           "metadata": {},
            "execution_count": 17, "outputs": [
          {
           "data": {
            "text/plain": ["val it : float = 2.0"]
        },
           "execution_count": 17,
           "metadata": {},
           "output_type": "execute_result"
          }], 
           "source": ["exp(log(2.0))\n"]
          }
,
          {
           "cell_type": "markdown",
           "metadata": {},
           
           "source": ["### Tuples \n",
"Looking at our return functions, we\u0027re starting to get several values that we\u0027re passing into the functions individaully. It can be useful to group these values together to make it easy to pass them around. Tuples are a simple way to group values.\n",
"\n",
"\n"]
          }
,
          {
           "cell_type": "code",
           "metadata": {},
            "execution_count": 18, "outputs": [
          {
           "data": {
            "text/plain": ["val it : int * int = (1, 2)"]
        },
           "execution_count": 18,
           "metadata": {},
           "output_type": "execute_result"
          }], 
           "source": ["(1,2)\n"]
          }
,
          {
           "cell_type": "code",
           "metadata": {},
            "execution_count": 19, "outputs": [
          {
           "data": {
            "text/plain": ["val it : int * int * int = (1, 2, 3)"]
        },
           "execution_count": 19,
           "metadata": {},
           "output_type": "execute_result"
          }], 
           "source": ["(1,2,3)\n"]
          }
,
          {
           "cell_type": "markdown",
           "metadata": {},
           
           "source": ["Tubles can contain mixed types.\n"]
          }
,
          {
           "cell_type": "code",
           "metadata": {},
            "execution_count": 20, "outputs": [
          {
           "data": {
            "text/plain": ["val it : int * string = (1, \"2\")"]
        },
           "execution_count": 20,
           "metadata": {},
           "output_type": "execute_result"
          }], 
           "source": ["(1,\"2\")\n"]
          }
,
          {
           "cell_type": "markdown",
           "metadata": {},
           
           "source": ["We can also deconstruct tuples. We can use built-in convenience functions for pairs.\n"]
          }
,
          {
           "cell_type": "code",
           "metadata": {},
            "execution_count": 21, "outputs": [
          {
           "data": {
            "text/plain": ["val it : int = 1"]
        },
           "execution_count": 21,
           "metadata": {},
           "output_type": "execute_result"
          }], 
           "source": ["fst (1,2)\n"]
          }
,
          {
           "cell_type": "code",
           "metadata": {},
            "execution_count": 22, "outputs": [
          {
           "data": {
            "text/plain": ["val it : int = 2"]
        },
           "execution_count": 22,
           "metadata": {},
           "output_type": "execute_result"
          }], 
           "source": ["snd (1,2)\n"]
          }
,
          {
           "cell_type": "markdown",
           "metadata": {},
           
           "source": ["We can also deconstruct tuples using pattern matching.\n"]
          }
,
          {
           "cell_type": "code",
           "metadata": {},
            "execution_count": 23, "outputs": [
          {
           "data": {
            "text/plain": ["val b : int = 2",
"val a : int = 1"]
        },
           "execution_count": 23,
           "metadata": {},
           "output_type": "execute_result"
          }], 
           "source": ["let (a, b) = (1, 2)\n"]
          }
,
          {
           "cell_type": "code",
           "metadata": {},
            "execution_count": 24, "outputs": [
          {
           "data": {
            "text/plain": ["val e : float = 3.0",
"val d : string = \"2\"",
"val c : int = 1"]
        },
           "execution_count": 24,
           "metadata": {},
           "output_type": "execute_result"
          }], 
           "source": ["let (c, d, e) = (1, \"2\", 3.0)\n"]
          }
,
          {
           "cell_type": "markdown",
           "metadata": {},
           
           "source": ["Now redefining our simple return function to take a single tuple as the input parameter.\n"]
          }
,
          {
           "cell_type": "code",
           "metadata": {},
            "execution_count": 25, "outputs": [
          {
           "data": {
            "text/plain": ["val simpleReturnTuple :",
"  beginningPrice:float * endingPrice:float * dividend:float -\u003e float",
"val it : float = 0.1"]
        },
           "execution_count": 25,
           "metadata": {},
           "output_type": "execute_result"
          }], 
           "source": ["let simpleReturnTuple (beginningPrice, endingPrice, dividend) =\n",
"    // This is solving for `r` in FV = PV*(1+r)^t where t=1.\n",
"    (endingPrice + dividend) / beginningPrice - 1.0\n",
"\n",
"simpleReturnTuple (100.0, 110.0, 0.0)\n"]
          }
,
          {
           "cell_type": "code",
           "metadata": {},
            "execution_count": 26, "outputs": [
          {
           "data": {
            "text/plain": ["val xx : float * float * float = (100.0, 110.0, 0.0)",
"val it : float = 0.1"]
        },
           "execution_count": 26,
           "metadata": {},
           "output_type": "execute_result"
          }], 
           "source": ["let xx = (100.0, 110.0, 0.0)\n",
"simpleReturnTuple xx\n"]
          }
,
          {
           "cell_type": "markdown",
           "metadata": {},
           
           "source": ["### Records\n",
"If we want more structure than a tuple, then we can define a record.\n",
"\n",
"\n"]
          }
,
          {
           "cell_type": "code",
           "metadata": {},
            "execution_count": 27, "outputs": [], 
           "source": ["type RecordExample = \n",
"    { BeginningPrice : float \n",
"      EndingPrice : float \n",
"      Dividend : float }      \n"]
          }
,
          {
           "cell_type": "markdown",
           "metadata": {},
           
           "source": ["And construct a value with that record type.\n"]
          }
,
          {
           "cell_type": "code",
           "metadata": {},
            "execution_count": 28, "outputs": [
          {
           "data": {
            "text/plain": ["val x : RecordExample = { BeginningPrice = 100.0",
"                          EndingPrice = 110.0",
"                          Dividend = 0.0 }"]
        },
           "execution_count": 28,
           "metadata": {},
           "output_type": "execute_result"
          }], 
           "source": ["let x = { BeginningPrice = 100.0; EndingPrice = 110.0; Dividend = 0.0}\n"]
          }
,
          {
           "cell_type": "markdown",
           "metadata": {},
           
           "source": ["Similar to tuples, we can deconstruct our record value `x` using pattern matching.\n"]
          }
,
          {
           "cell_type": "code",
           "metadata": {},
            "execution_count": 29, "outputs": [
          {
           "data": {
            "text/plain": ["input.fsx (1,5)-(1,60) typecheck warning The field labels and expected type of this record expression or pattern do not uniquely determine a corresponding record type",
"val cc : float = 0.0",
"val bb : float = 110.0",
"val aa : float = 100.0"]
        },
           "execution_count": 29,
           "metadata": {},
           "output_type": "execute_result"
          }], 
           "source": ["let { BeginningPrice = aa; EndingPrice = bb; Dividend = cc} = x\n"]
          }
,
          {
           "cell_type": "markdown",
           "metadata": {},
           
           "source": ["We can also access individual fields by name.\n"]
          }
,
          {
           "cell_type": "code",
           "metadata": {},
            "execution_count": 30, "outputs": [
          {
           "data": {
            "text/plain": ["val it : float = 1.1"]
        },
           "execution_count": 30,
           "metadata": {},
           "output_type": "execute_result"
          }], 
           "source": ["x.EndingPrice / x.BeginningPrice\n"]
          }
,
          {
           "cell_type": "markdown",
           "metadata": {},
           
           "source": ["We can define a return function that operates on the `RecordExample` type explicitly:\n"]
          }
,
          {
           "cell_type": "code",
           "metadata": {},
            "execution_count": 31, "outputs": [], 
           "source": ["let simpleReturnRecord1 { BeginningPrice = beginningPrice; EndingPrice = endingPrice; Dividend = dividend} =\n",
"    // This is solving for `r` in FV = PV*(1+r)^t where t=1.\n",
"    (endingPrice + dividend) / beginningPrice - 1.0\n"]
          }
,
          {
           "cell_type": "markdown",
           "metadata": {},
           
           "source": ["Or we can let the compiler\u0027s type inference figure out the input type.\n"]
          }
,
          {
           "cell_type": "code",
           "metadata": {},
            "execution_count": 32, "outputs": [], 
           "source": ["let simpleReturnRecord2 x =\n",
"    // This is solving for `r` in FV = PV*(1+r)^t where t=1.\n",
"    (x.EndingPrice + x.Dividend) / x.BeginningPrice - 1.0\n"]
          }
,
          {
           "cell_type": "markdown",
           "metadata": {},
           
           "source": ["Or we can provide a type hint to tell the compiler the type of the input.\n"]
          }
,
          {
           "cell_type": "code",
           "metadata": {},
            "execution_count": 33, "outputs": [], 
           "source": ["let simpleReturnRecord3 (x : RecordExample) =\n",
"    // This is solving for `r` in FV = PV*(1+r)^t where t=1.\n",
"    (x.EndingPrice + x.Dividend) / x.BeginningPrice - 1.0\n"]
          }
,
          {
           "cell_type": "markdown",
           "metadata": {},
           
           "source": ["All 3 can be used interchangably, but when you have many similar types a type hint may be necessary to make the particular type that you want explicit.\n"]
          }
,
          {
           "cell_type": "code",
           "metadata": {},
            "execution_count": 34, "outputs": [
          {
           "data": {
            "text/plain": ["val it : float = 0.1"]
        },
           "execution_count": 34,
           "metadata": {},
           "output_type": "execute_result"
          }], 
           "source": ["simpleReturnRecord1 x\n"]
          }
,
          {
           "cell_type": "code",
           "metadata": {},
            "execution_count": 35, "outputs": [
          {
           "data": {
            "text/plain": ["val it : float = 0.1"]
        },
           "execution_count": 35,
           "metadata": {},
           "output_type": "execute_result"
          }], 
           "source": ["simpleReturnRecord2 x\n"]
          }
,
          {
           "cell_type": "code",
           "metadata": {},
            "execution_count": 36, "outputs": [
          {
           "data": {
            "text/plain": ["val it : float = 0.1"]
        },
           "execution_count": 36,
           "metadata": {},
           "output_type": "execute_result"
          }], 
           "source": ["simpleReturnRecord3 x\n"]
          }
,
          {
           "cell_type": "markdown",
           "metadata": {},
           
           "source": ["### Pipelines and lambda expressions\n",
"This download code used pipelining and lambda functions, which are two important language features. Pipelines are created using the pipe operator (`|\u003e`) and allow you to pipe the output of one function to the input of another. Lambda expressions allow you to create functions on the fly. \n",
"\n",
"\n"]
          }
,
          {
           "cell_type": "code",
           "metadata": {},
            "execution_count": 37, "outputs": [
          {
           "data": {
            "text/plain": ["val it : float = 4.0"]
        },
           "execution_count": 37,
           "metadata": {},
           "output_type": "execute_result"
          }], 
           "source": ["1.0 |\u003e fun x -\u003e x + 1.0 |\u003e fun x -\u003e x ** 2.0\n"]
          }
,
          {
           "cell_type": "markdown",
           "metadata": {},
           
           "source": ["### Collections: Arrays, Lists, Sequences\n",
"\n",
"\n",
" A simple int array.\n"]
          }
,
          {
           "cell_type": "code",
           "metadata": {},
            "execution_count": 38, "outputs": [], 
           "source": ["let ar = [| 0 .. 10 |] \n"]
          }
,
          {
           "cell_type": "code",
           "metadata": {},
            "execution_count": 39, "outputs": [
          {
           "data": {
            "text/plain": ["val it : int [] = [|0; 1; 2; 3; 4|]"]
        },
           "execution_count": 39,
           "metadata": {},
           "output_type": "execute_result"
          }], 
           "source": ["ar |\u003e Array.take 5\n"]
          }
,
          {
           "cell_type": "markdown",
           "metadata": {},
           
           "source": ["When we look at the type signature of the elements in the array `val ar : int []`, it tells us that we have a integer array, meaning an array in which each element of the array is an integer. Arrays are \"zero indexed\", meaning the 0th item is the first in the array. We can access the elements individually or use a range to access multiple together.\n",
"\n"]
          }
,
          {
           "cell_type": "code",
           "metadata": {},
            "execution_count": 40, "outputs": [
          {
           "data": {
            "text/plain": ["val it : int = 0"]
        },
           "execution_count": 40,
           "metadata": {},
           "output_type": "execute_result"
          }], 
           "source": ["ar.[0]\n"]
          }
,
          {
           "cell_type": "code",
           "metadata": {},
            "execution_count": 41, "outputs": [
          {
           "data": {
            "text/plain": ["val it : int [] = [|0; 1; 2|]"]
        },
           "execution_count": 41,
           "metadata": {},
           "output_type": "execute_result"
          }], 
           "source": ["ar.[0 .. 2]\n"]
          }
,
          {
           "cell_type": "markdown",
           "metadata": {},
           
           "source": ["A simple float array.\n"]
          }
,
          {
           "cell_type": "code",
           "metadata": {},
            "execution_count": 42, "outputs": [
          {
           "data": {
            "text/plain": ["val arr : float [] = [|1.0; 2.0; 3.0; 4.0; 5.0; 6.0; 7.0; 8.0; 9.0; 10.0|]",
"val it : float [] = [|1.0; 2.0; 3.0; 4.0; 5.0; 6.0|]"]
        },
           "execution_count": 42,
           "metadata": {},
           "output_type": "execute_result"
          }], 
           "source": ["let arr = [| 1.0 .. 10.0 |]\n",
"arr.[0]\n",
"arr.[0 .. 5]\n"]
          }
,
          {
           "cell_type": "markdown",
           "metadata": {},
           
           "source": ["Lists and sequences are similar. \n"]
          }
,
          {
           "cell_type": "code",
           "metadata": {},
            "execution_count": 43, "outputs": [], 
           "source": ["// List\n",
"[ 1.0 .. 10.0 ]\n",
"// Sequence\n",
"seq { 1.0 .. 10.0 }\n"]
          }
,
          {
           "cell_type": "markdown",
           "metadata": {},
           
           "source": ["Arrays, lists, and sequences have different properties that can make one data structure preferable to the others in a given setting. We\u0027ll discuss these different properties in due time, but for an overview you can see the F# collection language reference [here](https://docs.microsoft.com/en-us/dotnet/fsharp/language-reference/fsharp-collection-types). Sequences are the most different as they are \"lazy\", meaning \"Sequences are particularly useful when you have a large, ordered collection of data but don\u0027t necessarily expect to use all the elements. Individual sequence elements are computed only as required, so a sequence can perform better than a list if not all the elements are used\" (see F# language reference).\n",
"\n",
"These collections have several built-in functions for operating on them such as map, filter, groupBy, etc.\n"]
          }
,
          {
           "cell_type": "code",
           "metadata": {},
            "execution_count": 44, "outputs": [
          {
           "data": {
            "text/plain": ["val it : float [] = [|2.0; 3.0; 4.0; 5.0; 6.0; 7.0; 8.0; 9.0; 10.0; 11.0|]"]
        },
           "execution_count": 44,
           "metadata": {},
           "output_type": "execute_result"
          }], 
           "source": ["arr\n",
"|\u003e Array.map(fun x -\u003e x + 1.0)\n"]
          }
,
          {
           "cell_type": "code",
           "metadata": {},
            "execution_count": 45, "outputs": [
          {
           "data": {
            "text/plain": ["val it : float [] = [|1.0; 2.0; 3.0; 4.0|]"]
        },
           "execution_count": 45,
           "metadata": {},
           "output_type": "execute_result"
          }], 
           "source": ["arr\n",
"|\u003e Array.filter(fun x -\u003e x \u003c 5.0)\n"]
          }
,
          {
           "cell_type": "code",
           "metadata": {},
            "execution_count": 46, "outputs": [
          {
           "data": {
            "text/plain": ["val it : (float * float) [] = [|(1.0, 4.0); (5.0, 10.0)|]"]
        },
           "execution_count": 46,
           "metadata": {},
           "output_type": "execute_result"
          }], 
           "source": ["arr\n",
"|\u003e Array.groupBy(fun x -\u003e x \u003c 5.0)\n",
"|\u003e Array.map(fun (group, xs) -\u003e Array.min xs, Array.max xs)\n"]
          }
,
          {
           "cell_type": "markdown",
           "metadata": {},
           
           "source": ["## Working with data\n",
"\n",
"With this foundation, let\u0027s now try loading some data. We are going to obtain and process the data using an external F# library called [FSharp.Data](https://github.com/fsprojects/FSharp.Data) that makes the processing easier. \n",
"\n",
"### Namespaces\n",
"First, let\u0027s create a file directory to hold data. We are going to use built-in dotnet IO (input-output) libraries to do so.\n",
"\n",
"\n"]
          }
,
          {
           "cell_type": "code",
           "metadata": {},
            "execution_count": 47, "outputs": [], 
           "source": ["// Set working directory to the this code file\u0027s directory\n",
"System.IO.Directory.SetCurrentDirectory(__SOURCE_DIRECTORY__)\n",
"// Now create cache directory one level above the working directory\n",
"System.IO.File.WriteAllLines(\"test.txt\",[\"first\";\"second\"]) \n"]
          }
,
          {
           "cell_type": "markdown",
           "metadata": {},
           
           "source": ["This illustrates the library namespace hierarchy. If we want to access the function within the hierarchy without typing the full namespace repetitively, we can open it. The following code is equivalent.\n",
"\n",
"```\n",
"open System.IO\n",
"Directory.SetCurrentDirectory(__SOURCE_DIRECTORY__)\n",
"File.WriteAllLines(\"test.txt\",[\"first\";\"second\"]) \n",
"```\n",
"\n",
"It is common to open the System namespace\n",
"\n"]
          }
,
          {
           "cell_type": "code",
           "metadata": {},
            "execution_count": 48, "outputs": [], 
           "source": ["open System\n"]
          }
,
          {
           "cell_type": "markdown",
           "metadata": {},
           
           "source": ["### API keys\n",
"We are going to request the data from the provider [tiingo](https://api.tiingo.com/). Make sure that you are signed up and have your [API token](https://api.tiingo.com/documentation/general/connecting). An [API](https://en.wikipedia.org/wiki/API) (application programming interface) allows you to write code to communicate with another program. In this case we are goig to write code that requests stock price data from tiingo\u0027s web servers.\n",
"\n",
"Once you have your api key, create a file called `secrets.fsx` and save it at the root/top level of your project folder. In `secrets.fsx`, assign your key to a value named `tiingoKey`. If you are using git, make sure to add `secrets.fsx` to your `.gitignore` file.\n",
"\n",
"```fsharp\n",
"let tiingoKey = \"yourSuperSecretApiKey\"\n",
"```\n",
"\n",
"We can load this in our interactive session as follows, assuming that `secrets.fsx` is located one folder above the current one in the file system.\n",
"\n",
"\n"]
          }
,
          {
           "cell_type": "code",
           "metadata": {},
            "execution_count": null, "outputs": [], 
           "source": ["#load \"secrets.fsx\"\n"]
          }
,
          {
           "cell_type": "markdown",
           "metadata": {},
           
           "source": ["and we can access the value by typing \n",
"```\n",
"Secrets.tiingoKey\n",
"```\n",
"\n",
"### FSharp.Data Csv Type Provider\n",
"We\u0027re now going to process our downloaded data using the **FSharp.Data** [Csv Type Provider](http://fsprojects.github.io/FSharp.Data/library/CsvProvider.html). This is code that automatically defines the types of input data based on a sample. We have already reference the nuget packaged and opened the namespace, so we can just use it now.\n",
"\n"]
          }
,
          {
           "cell_type": "code",
           "metadata": {},
            "execution_count": 49, "outputs": [
          {
           "data": {
            "text/plain": ["No value returned by any evaluator"]
        },
           "execution_count": 49,
           "metadata": {},
           "output_type": "execute_result"
          }], 
           "source": ["#load \"Common.fsx\"\n",
"open Common\n",
"\n",
"\n",
"let aapl = \n",
"    \"AAPL\"\n",
"    |\u003e Tiingo.request\n",
"    |\u003e Tiingo.get  \n",
"\n",
"aapl\n",
"|\u003e Array.take 5\n"]
          }
,
          {
           "cell_type": "markdown",
           "metadata": {},
           
           "source": ["### Plotting\n",
"Now let\u0027s plot the stock price using [Plotly.NET](https://plotly.github.io/Plotly.NET/).\n",
"\n"]
          }
,
          {
           "cell_type": "code",
           "metadata": {},
            "execution_count": 50, "outputs": [], 
           "source": ["#r \"nuget: Plotly.NET, 2.0.0-beta5\"\n",
"open Plotly.NET\n",
"\n",
"\n",
"let sampleChart =\n",
"    aapl\n",
"    |\u003e Seq.map(fun x -\u003e x.Date, x.AdjClose)\n",
"    |\u003e Chart.Line\n"]
          }
,
          {
           "cell_type": "code",
           "metadata": {},
            "execution_count": null, "outputs": [
          {
           "data": {
            "text/plain": ["No value returned by any evaluator"]
        },
           "execution_count": null,
           "metadata": {},
           "output_type": "execute_result"
          }], 
           "source": ["sampleChart |\u003e Chart.Show   \n"]
          }
,
          {
           "cell_type": "markdown",
           "metadata": {},
           
           "source": ["Let\u0027s calculate returns for this data. Typically we calculate close-close returns. Looking at the data, we could use the `close`, `divCash`, and `splitFacor` columns to calculate returns accounting for stock splits and dividends (a good at home exercise). But there is also an `adjClose` column that accounts for both those things. So we we can use this\n",
"\n"]
          }
,
          {
           "cell_type": "code",
           "metadata": {},
            "execution_count": 52, "outputs": [], 
           "source": ["// Returns\n",
"let returns = \n",
"    aapl\n",
"    |\u003e Seq.sortBy(fun x -\u003e x.Date)\n",
"    |\u003e Seq.pairwise\n",
"    |\u003e Seq.map(fun (a,b) -\u003e b.Date, calcReturn (float a.AdjClose) (float b.AdjClose))\n",
"\n",
"let avgReturnEachMonth = \n",
"    returns\n",
"    |\u003e Seq.groupBy(fun (date, ret) -\u003e DateTime(date.Year, date.Month,1))\n",
"    |\u003e Seq.map(fun (month, xs) -\u003e month, Seq.length xs, xs |\u003e Seq.averageBy snd)\n"]
          }
,
          {
           "cell_type": "markdown",
           "metadata": {},
           
           "source": ["We can look at a few of these\n"]
          }
,
          {
           "cell_type": "code",
           "metadata": {},
            "execution_count": 53, "outputs": [
          {
           "data": {
            "text/plain": ["input.fsx (1,1)-(1,19) typecheck error The value or constructor \u0027avgReturnEachMonth\u0027 is not defined."]
        },
           "execution_count": 53,
           "metadata": {},
           "output_type": "execute_result"
          }], 
           "source": ["avgReturnEachMonth |\u003e Seq.take 3 |\u003e Seq.toList\n"]
          }
,
          {
           "cell_type": "markdown",
           "metadata": {},
           
           "source": ["The default DateTime printing is too verbose if we don\u0027t care about time. We can simplify the printing:\n"]
          }
,
          {
           "cell_type": "code",
           "metadata": {},
            "execution_count": 54, "outputs": [
          {
           "data": {
            "text/plain": ["input.fsx (2,1)-(2,19) typecheck error The value or constructor \u0027avgReturnEachMonth\u0027 is not defined."]
        },
           "execution_count": 54,
           "metadata": {},
           "output_type": "execute_result"
          }], 
           "source": ["fsi.AddPrinter\u003cDateTime\u003e(fun dt -\u003e dt.ToString(\"s\"))    \n",
"avgReturnEachMonth |\u003e Seq.take 3 |\u003e Seq.toList\n"]
          }
,
          {
           "cell_type": "code",
           "metadata": {},
            "execution_count": 55, "outputs": [], 
           "source": ["let monthlyReturnChart =\n",
"    avgReturnEachMonth\n",
"    |\u003e Seq.map(fun (month, cnt, ret) -\u003e month, ret)\n",
"    |\u003e Chart.Bar\n"]
          }
,
          {
           "cell_type": "code",
           "metadata": {},
            "execution_count": null, "outputs": [
          {
           "data": {
            "text/plain": ["No value returned by any evaluator"]
        },
           "execution_count": null,
           "metadata": {},
           "output_type": "execute_result"
          }], 
           "source": ["monthlyReturnChart |\u003e Chart.Show\n"]
          }
,
          {
           "cell_type": "markdown",
           "metadata": {},
           
           "source": ["## Volatility\n",
"We represent volatility by the standard deviation of returns. We can define a standard deviation function ourself.\n",
"\n"]
          }
,
          {
           "cell_type": "code",
           "metadata": {},
            "execution_count": 57, "outputs": [
          {
           "data": {
            "text/plain": ["val stddev : xs:seq\u003cfloat\u003e -\u003e float",
"val it : float = 3.027650354"]
        },
           "execution_count": 57,
           "metadata": {},
           "output_type": "execute_result"
          }], 
           "source": ["let stddev xs =\n",
"    let mu = xs |\u003e Seq.average\n",
"    let sse = xs |\u003e Seq.sumBy(fun x -\u003e (x - mu)**2.0)\n",
"    let n = xs |\u003e Seq.length |\u003e float\n",
"    sqrt (sse / (n - 1.0))\n",
"\n",
"[1.0 .. 10.0 ] |\u003e stddev    \n"]
          }
,
          {
           "cell_type": "markdown",
           "metadata": {},
           
           "source": ["But it is also convenient to use the [FSharp.Stats](https://fslab.org/FSharp.Stats/)\n",
"\n"]
          }
,
          {
           "cell_type": "code",
           "metadata": {},
            "execution_count": 58, "outputs": [
          {
           "data": {
            "text/plain": ["[Loading /tmp/nuget/2132--799cf7fb-83ed-40f2-8770-bd11a4b1d4c8/Project.fsproj.fsx]",
"namespace FSI_0929.Project",
"",
"val it : float = 3.027650354"]
        },
           "execution_count": 58,
           "metadata": {},
           "output_type": "execute_result"
          }], 
           "source": ["#r \"nuget: FSharp.Stats, 0.4.0\"\n",
"\n",
"open FSharp.Stats\n",
"[1.0 .. 10.0 ] |\u003e Seq.stDev\n"]
          }
,
          {
           "cell_type": "markdown",
           "metadata": {},
           
           "source": ["Now let\u0027s look at 5-day rolling volatilities.\n"]
          }
,
          {
           "cell_type": "code",
           "metadata": {},
            "execution_count": 59, "outputs": [], 
           "source": ["let rollingVols =\n",
"    returns\n",
"    // Sort by date again because you never can be too careful\n",
"    // about making sure that you have the right sort order.\n",
"    |\u003e Seq.sortBy fst \n",
"    |\u003e Seq.windowed 5\n",
"    |\u003e Seq.map(fun xs -\u003e\n",
"        let maxWindowDate = xs |\u003e Seq.map fst |\u003e Seq.max\n",
"        let dailyVol = xs |\u003e Seq.stDevBy snd\n",
"        let annualizedVolInPct = dailyVol * sqrt(252.0) * 100.0\n",
"        maxWindowDate, annualizedVolInPct)\n",
"\n",
"let volChart = \n",
"    rollingVols\n",
"    |\u003e Chart.Line\n"]
          }
,
          {
           "cell_type": "code",
           "metadata": {},
            "execution_count": null, "outputs": [
          {
           "data": {
            "text/plain": ["No value returned by any evaluator"]
        },
           "execution_count": null,
           "metadata": {},
           "output_type": "execute_result"
          }], 
           "source": ["volChart |\u003e Chart.Show    \n"]
          }],
            "metadata": {
            "kernelspec": {"display_name": ".NET (F#)", "language": "F#", "name": ".net-fsharp"},
            "langauge_info": {
        "file_extension": ".fs",
        "mimetype": "text/x-fsharp",
        "name": "C#",
        "pygments_lexer": "fsharp",
        "version": "4.5"
        }
        },
            "nbformat": 4,
            "nbformat_minor": 1
        }
        

