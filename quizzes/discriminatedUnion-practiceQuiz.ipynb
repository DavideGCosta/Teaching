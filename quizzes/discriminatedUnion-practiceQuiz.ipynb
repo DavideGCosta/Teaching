
        {
            "cells": [
          {
           "cell_type": "markdown",
           "metadata": {},
           
           "source": ["// can\u0027t yet format YamlFrontmatter ([\"title: Dicriminated Union\"; \"category: Practice Quizzes\"; \"categoryindex: 1\"; \"index: 5\"], Some { StartLine = 2 StartColumn = 0 EndLine = 6 EndColumn = 8 }) to pynb markdown\n",
"\n",
"[![Binder](../images/badge-binder.svg)](https://mybinder.org/v2/gh/nhirschey/teaching/gh-pages?filepath=quizzes/discriminatedUnion-practiceQuiz.ipynb)\u0026emsp;\n",
"[![Script](../images/badge-script.svg)](/Teaching//quizzes/discriminatedUnion-practiceQuiz.fsx)\u0026emsp;\n",
"[![Notebook](../images/badge-notebook.svg)](/Teaching//quizzes/discriminatedUnion-practiceQuiz.ipynb)\n",
"\n",
"This practice quiz emphasizes `Discriminated Unions`. They are useful for times when the data that you\u0027re representing has multiple mutually exclusive cases. \n",
"\n",
"Here is some good background reading for before you do these quesitions, particularly the F# for fun and profit link.\n",
"\n",
"- Discriminated Union types\n",
"\n",
"    - The F# language reference for [discriminated unions](https://docs.microsoft.com/en-us/dotnet/fsharp/language-reference/discriminated-unions)\n",
"    - If you want more a more in depth discussion, see F# for fun and profit\u0027s section on [discriminated unions](https://fsharpforfunandprofit.com/posts/discriminated-unions/)\n",
"    - The tour of F# section on [discriminated unions](https://docs.microsoft.com/en-us/dotnet/fsharp/tour#record-and-discriminated-union-types)\n",
"\n",
"\n",
"## Question 1\n",
"Create a discriminated union named `Action` with two cases: Buy and Sell.\n",
"\n",
"1. Create a value named \u0027bAction\u0027 and assign `Buy` to it.\n",
"2. Create a value named \u0027sAction\u0027 and assign `Sell` to it.\n",
"\n",
"\u003cdiv style=\"padding-left: 40px;\"\u003e\n",
"\u003cp\u003e \n",
"\u003cspan\u003e\n",
"\u003cdetails\u003e\n",
"\u003csummary\u003e\u003cp style=\"display:inline\"\u003eanswer\u003c/p\u003e\u003c/summary\u003e\n",
"\n",
"```\n",
"type Action =\n",
"  | Buy\n",
"  | Sell\n",
"val bAction : Action = Buy\n",
"val sAction : Action = Sell\n",
"```\n",
"\n",
"\u003c/details\u003e\n",
"\u003c/span\u003e\n",
"\u003c/p\u003e\n",
"\u003c/div\u003e\n",
"\n"]
          }
,
          {
           "cell_type": "code",
           "metadata": {},
            "execution_count": null, "outputs": [], 
           "source": ["// write your code here, see website for solution.\n"]
          }
,
          {
           "cell_type": "markdown",
           "metadata": {},
           
           "source": ["## Question 2\n",
"Create a single case discriminated union to represent a particular kind of string:\n",
"\n",
"1. Create a discriminated union named Ticker with a single case Ticker of string. \n",
"2. Then wrap the string \"ABC\" in your Ticker type and assign it to a value named \u0027aTicker\u0027.\n",
"3. Then use pattern matching to unwrap the string in `aTicker` and assign it to a value named `aTickerString`.\n",
"\n",
"Discriminated unions like this are usful if you want to make \n",
"sure that you don\u0027t accidentally mix up two strings that represent\n",
"different things.\n",
"A function that takes an input with type `Ticker` will not accept any string,\n",
"it will only accept inputs that have time Ticker.\n",
"\n",
"\u003cdiv style=\"padding-left: 40px;\"\u003e\n",
"\u003cp\u003e \n",
"\u003cspan\u003e\n",
"\u003cdetails\u003e\n",
"\u003csummary\u003e\u003cp style=\"display:inline\"\u003eanswer\u003c/p\u003e\u003c/summary\u003e\n",
"\n",
"```\n",
"type Ticker = | Ticker of string\n",
"val aTicker : Ticker = Ticker \"ABC\"\n",
"val aTickerString : string = \"ABC\"\n",
"```\n",
"\n",
"\u003c/details\u003e\n",
"\u003c/span\u003e\n",
"\u003c/p\u003e\n",
"\u003c/div\u003e\n",
"\n"]
          }
,
          {
           "cell_type": "code",
           "metadata": {},
            "execution_count": null, "outputs": [], 
           "source": ["// write your code here, see website for solution.\n"]
          }
,
          {
           "cell_type": "markdown",
           "metadata": {},
           
           "source": ["## Question 3\n",
"Create a single case discriminated union to represent a particular kind of float:\n",
"\n",
"1. Create a discriminated union named Signal with a single case Signal of float. \n",
"2. Then wrap the string float `1.0` in your Signal type and assign it to a value named \u0027aSignal\u0027.\n",
"3. Then use pattern matching to unwrap the float in `aSignal` and assign it to a value named `aSignalFloat`.\n",
"\n",
"\u003cdiv style=\"padding-left: 40px;\"\u003e\n",
"\u003cp\u003e \n",
"\u003cspan\u003e\n",
"\u003cdetails\u003e\n",
"\u003csummary\u003e\u003cp style=\"display:inline\"\u003eanswer\u003c/p\u003e\u003c/summary\u003e\n",
"\n",
"```\n",
"type Signal = | Signal of float\n",
"val aSignal : Signal = Signal 1.2\n",
"val aSignalFloat : float = 1.2\n",
"```\n",
"\n",
"\u003c/details\u003e\n",
"\u003c/span\u003e\n",
"\u003c/p\u003e\n",
"\u003c/div\u003e\n",
"\n"]
          }
,
          {
           "cell_type": "code",
           "metadata": {},
            "execution_count": null, "outputs": [], 
           "source": ["// write your code here, see website for solution.\n"]
          }
,
          {
           "cell_type": "markdown",
           "metadata": {},
           
           "source": ["## Question 4\n",
"Create a discriminated union called called `Funds` with two cases: MutualFund of string and HedgeFund of string.\n",
"\n",
"1. Create a MutualFund case of the Fund union with the string \"Fidelity Magellan\". Assign it to a value named \"magellan\".\n",
"2. Create a HedgeFund case of the Fund union with the string \"Renaissance Medallion\". Assign it to a value named \"renaissance\".\n",
"\n",
"\n",
"\u003cdiv style=\"padding-left: 40px;\"\u003e\n",
"\u003cp\u003e \n",
"\u003cspan\u003e\n",
"\u003cdetails\u003e\n",
"\u003csummary\u003e\u003cp style=\"display:inline\"\u003eanswer\u003c/p\u003e\u003c/summary\u003e\n",
"\n",
"```\n",
"type Funds =\n",
"  | MutualFund of string\n",
"  | HedgeFund of string\n",
"val magellan : Funds = MutualFund \"Fidelity Magellan\"\n",
"val renaissance : Funds = HedgeFund \"Renaissance Medallion\"\n",
"```\n",
"\n",
"\u003c/details\u003e\n",
"\u003c/span\u003e\n",
"\u003c/p\u003e\n",
"\u003c/div\u003e\n",
"\n"]
          }
,
          {
           "cell_type": "code",
           "metadata": {},
            "execution_count": null, "outputs": [], 
           "source": ["// write your code here, see website for solution.\n"]
          }
,
          {
           "cell_type": "markdown",
           "metadata": {},
           
           "source": ["## Question 5\n",
"Define two types with the same cases.\n",
"\n"]
          }
,
          {
           "cell_type": "code",
           "metadata": {},
            "execution_count": 8, "outputs": [], 
           "source": ["type Ambiguous1 = Up | Down\n",
"type Ambiguous2 = Up | Down\n"]
          }
,
          {
           "cell_type": "markdown",
           "metadata": {},
           
           "source": ["If you try to assign Ambiguous1 to values, \n",
"it can be hard for the compiler (and yourself)\n",
"to figure out which of these types you mean. If you write `Up`\n",
"the compiler will think that you meant to use whatever was defined\n",
"last (Ambigous2).\n",
"\n",
"Use fully qualified names to show how to assign the `Up` case from Ambiguous1 to\n",
"a value named `ambiguous1` and the `Up` case from Ambiguous2 to a value named\n",
"`ambiguous2`. \n",
"\n",
"\u003cdiv style=\"padding-left: 40px;\"\u003e\n",
"\u003cp\u003e \n",
"\u003cspan\u003e\n",
"\u003cdetails\u003e\n",
"\u003csummary\u003e\u003cp style=\"display:inline\"\u003eanswer\u003c/p\u003e\u003c/summary\u003e\n",
"\n",
"```\n",
"type Ambiguous1 =\n",
"  | Up\n",
"  | Down\n",
"type Ambiguous2 =\n",
"  | Up\n",
"  | Down\n",
"val ambiguous1 : Ambiguous1 = Up\n",
"val ambiguous2 : Ambiguous2 = Up\n",
"```\n",
"\n",
"\u003c/details\u003e\n",
"\u003c/span\u003e\n",
"\u003c/p\u003e\n",
"\u003c/div\u003e\n",
"\n"]
          }
,
          {
           "cell_type": "code",
           "metadata": {},
            "execution_count": null, "outputs": [], 
           "source": ["// write your code here, see website for solution.\n"]
          }
,
          {
           "cell_type": "markdown",
           "metadata": {},
           
           "source": ["## Question 6\n",
"Imagine that analyst recommendations have the form\n",
"\n"]
          }
,
          {
           "cell_type": "code",
           "metadata": {},
            "execution_count": 10, "outputs": [], 
           "source": ["type AnalystRec = Buy | Sell | Hold\n"]
          }
,
          {
           "cell_type": "markdown",
           "metadata": {},
           
           "source": ["You have recommendations from two analysts\n",
"\n"]
          }
,
          {
           "cell_type": "code",
           "metadata": {},
            "execution_count": 11, "outputs": [], 
           "source": ["let goldmanRec = Buy\n",
"let barclaysRec = Sell\n"]
          }
,
          {
           "cell_type": "markdown",
           "metadata": {},
           
           "source": ["You want to act on goldman recommendations as follows:\n",
"\n"]
          }
,
          {
           "cell_type": "code",
           "metadata": {},
            "execution_count": 12, "outputs": [], 
           "source": ["let actionOnGoldman (x: AnalystRec) =\n",
"    match x with\n",
"    | Buy | Hold -\u003e \"I am buying this!\"\n",
"    | Sell -\u003e \"I am selling this!\"\n"]
          }
,
          {
           "cell_type": "markdown",
           "metadata": {},
           
           "source": ["The problem is that this `actionOnGoldman` function will\n",
"work for both `goldmanRec` and `barclaysRec`.\n",
"\n"]
          }
,
          {
           "cell_type": "code",
           "metadata": {},
            "execution_count": 13, "outputs": [], 
           "source": ["actionOnGoldman goldmanRec // evaluates to \"I am buying this!\"\n",
"actionOnGoldman barclaysRec // evaluates to \"I am selling this!\"\n"]
          }
,
          {
           "cell_type": "markdown",
           "metadata": {},
           
           "source": ["1. Create a single case union called `GoldmanRec` where the single case\n",
"is GoldmanRec of AnalystRec. \n",
"2. Create a modified `actionOnGoldman` function called `actionOnGoldmanOnly` so that it will only work on recommendations with the type `GoldmanRec`.\n",
"\n",
"If `wrappedGoldmanRec` is buy `GoldmanRec`, the result should be\n",
"```fsharp\n",
"actionOnGoldmanOnly wrappedGoldmanRec // evaluates to \"I am buying this!\"\n",
"actionOnGoldmanOnly barclaysRec // compiler error.\n",
"```\n",
"\n",
"\u003cdiv style=\"padding-left: 40px;\"\u003e\n",
"\u003cp\u003e \n",
"\u003cspan\u003e\n",
"\u003cdetails\u003e\n",
"\u003csummary\u003e\u003cp style=\"display:inline\"\u003eanswer\u003c/p\u003e\u003c/summary\u003e\n",
"\n",
"```\n",
"type AnalystRec =\n",
"  | Buy\n",
"  | Sell\n",
"  | Hold\n",
"type GoldmanRec = | GoldmanRec of AnalystRec\n",
"val goldmanRec : AnalystRec = Buy\n",
"val barclaysRec : AnalystRec = Sell\n",
"val actionOnGoldman : x:AnalystRec -\u003e string\n",
"```\n",
"\n",
"What we want:\n",
"\n",
"```\n",
"val it : string = \"I am buying this!\"\n",
"```\n",
"\n",
"Oops, we only want actionOnGoldman to work for Goldman recommendation.\n",
"\n",
"```\n",
"val it : string = \"I am buying this!\"\n",
"```\n",
"\n",
"---\n",
"** Actual answer starts here **\n",
"\n",
"Constructing created value from scratch:\n",
"\n",
"```\n",
"val wrappedGoldmanRec : GoldmanRec = GoldmanRec Buy\n",
"```\n",
"\n",
"or, wrapping our previously created value:\n",
"\n",
"```\n",
"val wrappedGoldmanRec2 : GoldmanRec = GoldmanRec Buy\n",
"val it : bool = true\n",
"```\n",
"\n",
"Now, constructing recommendation function from scratch:\n",
"\n",
"```\n",
"val actionOnGoldmanOnly : x:GoldmanRec -\u003e string\n",
"```\n",
"\n",
"or, constructing it from scratch with pattern matching:  \n",
"\n",
"```\n",
"val actionOnGoldmanOnly2 : GoldmanRec -\u003e string\n",
"```\n",
"\n",
"or, since you see above that once we unwrap the goldman rec,\n",
"it is the same as our original function.\n",
"\n",
"```\n",
"val actionOnGoldmanOnly3 : GoldmanRec -\u003e string\n",
"```\n",
"\n",
"Now let\u0027s check the results.\n",
"All the alternatives should return the same result.\n",
"\n",
"```\n",
"val Goldman1 : string = \"I am buying this!\"\n",
"val Goldman2 : string = \"I am buying this!\"\n",
"val Goldman3 : string = \"I am buying this!\"\n",
"```\n",
"\n",
"```fsharp\n",
"actionOnGoldmanOnly barclaysRec //compiles to error\n",
"actionOnGoldmanOnly2 barclaysRec //compiles to error\n",
"actionOnGoldmanOnly3 barclaysRec //compiles to error\n",
"```\n",
"These would all give compiler errors. \n",
"So now we have what we want, actionOnGoldmanOnly only works for Goldman recommendations.\n",
"\n",
"\u003c/details\u003e\n",
"\u003c/span\u003e\n",
"\u003c/p\u003e\n",
"\u003c/div\u003e\n",
"\n"]
          }
,
          {
           "cell_type": "code",
           "metadata": {},
            "execution_count": null, "outputs": [], 
           "source": ["// write your code here, see website for solution.\n"]
          }
,
          {
           "cell_type": "markdown",
           "metadata": {},
           
           "source": ["## Question 7\n",
"Imagine that stock tips have the form\n",
"\n"]
          }
,
          {
           "cell_type": "code",
           "metadata": {},
            "execution_count": 23, "outputs": [], 
           "source": ["type StockTip = Buy | Sell | Hold\n"]
          }
,
          {
           "cell_type": "markdown",
           "metadata": {},
           
           "source": ["You have recommendations from two people\n",
"\n"]
          }
,
          {
           "cell_type": "code",
           "metadata": {},
            "execution_count": 24, "outputs": [], 
           "source": ["let friendRec = Buy\n",
"let professorRec = Sell\n"]
          }
,
          {
           "cell_type": "markdown",
           "metadata": {},
           
           "source": ["You want to actions as follows:\n",
"\n"]
          }
,
          {
           "cell_type": "code",
           "metadata": {},
            "execution_count": 25, "outputs": [], 
           "source": ["let actionOnFriend (x: StockTip) = x\n",
"let actionOnProfessor (x: StockTip) =\n",
"    match x with\n",
"    | Buy -\u003e StockTip.Sell\n",
"    | Hold -\u003e StockTip.Sell\n",
"    | Sell -\u003e StockTip.Buy\n"]
          }
,
          {
           "cell_type": "markdown",
           "metadata": {},
           
           "source": ["1. Create a two case union called `FriendOrFoe` where the two cases are Friend of StockTip and Professor of StockTip.\n",
"2. Create a function called `actionFriendOrFoe` that will properly handle tips from friends and tips from professors.\n",
"\n",
"Show that `friendRec` and `professorRec` wrapped in the `FriendOrFoe` type are handled properly by `actionFriendOrFoe`.\n",
"\n",
"\u003cdiv style=\"padding-left: 40px;\"\u003e\n",
"\u003cp\u003e \n",
"\u003cspan\u003e\n",
"\u003cdetails\u003e\n",
"\u003csummary\u003e\u003cp style=\"display:inline\"\u003eanswer\u003c/p\u003e\u003c/summary\u003e\n",
"\n",
"```\n",
"type StockTip =\n",
"  | Buy\n",
"  | Sell\n",
"  | Hold\n",
"val friendRec : StockTip = Buy\n",
"val professorRec : StockTip = Sell\n",
"val actionOnFriend : x:StockTip -\u003e StockTip\n",
"val actionOnProfessor : x:StockTip -\u003e StockTip\n",
"```\n",
"\n",
"or, since we\u0027re doing the same thing with a professor\u0027s\n",
"Buy or Hold recommendation, this could also be written\n",
"\n",
"```\n",
"val actionOnProfessor2 : x:StockTip -\u003e StockTip\n",
"type FriendOrFoe =\n",
"  | Friend of StockTip\n",
"  | Professor of StockTip\n",
"val wrappedFriendRec : FriendOrFoe = Friend Buy\n",
"val wrappedProfessorRec : FriendOrFoe = Professor Sell\n",
"val actionOnFriendOrFoe : x:FriendOrFoe -\u003e StockTip\n",
"```\n",
"\n",
"```\n",
"val friendOrFoe1 : StockTip = Buy\n",
"val friendOrFoe2 : StockTip = Buy\n",
"val friendOrFoe3 : StockTip = Sell\n",
"```\n",
"\n",
"\u003c/details\u003e\n",
"\u003c/span\u003e\n",
"\u003c/p\u003e\n",
"\u003c/div\u003e\n",
"\n"]
          }
,
          {
           "cell_type": "code",
           "metadata": {},
            "execution_count": null, "outputs": [], 
           "source": ["// write your code here, see website for solution.\n"]
          }],
            "metadata": {
            "kernelspec": {"display_name": ".NET (F#)", "language": "F#", "name": ".net-fsharp"},
            "langauge_info": {
        "file_extension": ".fs",
        "mimetype": "text/x-fsharp",
        "name": "C#",
        "pygments_lexer": "fsharp",
        "version": "4.5"
        }
        },
            "nbformat": 4,
            "nbformat_minor": 1
        }
        

